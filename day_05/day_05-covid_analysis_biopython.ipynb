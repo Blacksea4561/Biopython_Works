{
 "cells": [
  {
   "cell_type": "markdown",
   "id": "10b497d8",
   "metadata": {},
   "source": [
    "# COVID-19 Genome Analysis using Biopython"
   ]
  },
  {
   "cell_type": "markdown",
   "id": "f857fb09",
   "metadata": {},
   "source": [
    "### Fetch COVID-19 Genome from NCBI\n",
    "**MN908947** - covid-19 genome used here was sequenced from a sample of bronchoalveolar lavage fluid from a single patient who was a worker at the market and who was admitted to the Central Hospital of Wuhan on 26 December 2019"
   ]
  },
  {
   "cell_type": "code",
   "execution_count": 1,
   "id": "82bdd4f2",
   "metadata": {},
   "outputs": [],
   "source": [
    "from Bio import Entrez, SeqIO\n",
    "Entrez.email = \"\" \n",
    "handle = Entrez.efetch(db=\"nucleotide\", id=\"MN908947\", rettype=\"gb\", retmode=\"text\")\n",
    "recs = list(SeqIO.parse(handle, 'gb'))\n",
    "handle.close()"
   ]
  },
  {
   "cell_type": "code",
   "execution_count": 2,
   "id": "5f454bae",
   "metadata": {},
   "outputs": [
    {
     "data": {
      "text/plain": [
       "[SeqRecord(seq=Seq('ATTAAAGGTTTATACCTTCCCAGGTAACAAACCAACCAACTTTCGATCTCTTGT...AAA'), id='MN908947.3', name='MN908947', description='Severe acute respiratory syndrome coronavirus 2 isolate Wuhan-Hu-1, complete genome', dbxrefs=[])]"
      ]
     },
     "execution_count": 2,
     "metadata": {},
     "output_type": "execute_result"
    }
   ],
   "source": [
    "recs"
   ]
  },
  {
   "cell_type": "code",
   "execution_count": 3,
   "id": "6012639b",
   "metadata": {},
   "outputs": [],
   "source": [
    "covid_dna = recs[0].seq"
   ]
  },
  {
   "cell_type": "code",
   "execution_count": 4,
   "id": "abdf293b",
   "metadata": {},
   "outputs": [
    {
     "data": {
      "text/plain": [
       "Seq('ATTAAAGGTTTATACCTTCCCAGGTAACAAACCAACCAACTTTCGATCTCTTGT...AAA')"
      ]
     },
     "execution_count": 4,
     "metadata": {},
     "output_type": "execute_result"
    }
   ],
   "source": [
    "covid_dna"
   ]
  },
  {
   "cell_type": "code",
   "execution_count": 5,
   "id": "f4e53b92",
   "metadata": {},
   "outputs": [
    {
     "name": "stdout",
     "output_type": "stream",
     "text": [
      "The genome of Covid-19 consists of 29903 nucleotides.\n"
     ]
    }
   ],
   "source": [
    "print(f'The genome of Covid-19 consists of {len(covid_dna)} nucleotides.')"
   ]
  },
  {
   "cell_type": "code",
   "execution_count": 6,
   "id": "2717de75",
   "metadata": {},
   "outputs": [
    {
     "data": {
      "text/plain": [
       "9241219.214400413"
      ]
     },
     "execution_count": 6,
     "metadata": {},
     "output_type": "execute_result"
    }
   ],
   "source": [
    "# molecular weight\n",
    "from Bio.SeqUtils import molecular_weight\n",
    "molecular_weight(covid_dna)"
   ]
  },
  {
   "cell_type": "code",
   "execution_count": 7,
   "id": "15a52c3b",
   "metadata": {},
   "outputs": [
    {
     "data": {
      "text/plain": [
       "37.97277865097148"
      ]
     },
     "execution_count": 7,
     "metadata": {},
     "output_type": "execute_result"
    }
   ],
   "source": [
    "# GC content - higher GC content implies more stable molecule due to G and C forming triple hydrogen bonds\n",
    "from Bio.SeqUtils import GC\n",
    "GC(covid_dna)"
   ]
  },
  {
   "cell_type": "markdown",
   "id": "1a0c848d",
   "metadata": {},
   "source": [
    "### Distribution of nucleotides in COVID-19 genome"
   ]
  },
  {
   "cell_type": "code",
   "execution_count": 8,
   "id": "8a4ff4e5",
   "metadata": {},
   "outputs": [],
   "source": [
    "count_nucleotides = {\n",
    "    'A': covid_dna.count('A'),\n",
    "    'T': covid_dna.count('T'),\n",
    "    'C': covid_dna.count('C'),\n",
    "    'G': covid_dna.count('G')\n",
    "}"
   ]
  },
  {
   "cell_type": "code",
   "execution_count": 9,
   "id": "fa9ffb4b",
   "metadata": {},
   "outputs": [
    {
     "data": {
      "text/plain": [
       "{'A': 8954, 'T': 9594, 'C': 5492, 'G': 5863}"
      ]
     },
     "execution_count": 9,
     "metadata": {},
     "output_type": "execute_result"
    }
   ],
   "source": [
    "count_nucleotides"
   ]
  },
  {
   "cell_type": "code",
   "execution_count": 10,
   "id": "b84945e7",
   "metadata": {},
   "outputs": [
    {
     "data": {
      "text/plain": [
       "Text(0.5, 1.0, 'Nucleotide Frequency')"
      ]
     },
     "execution_count": 10,
     "metadata": {},
     "output_type": "execute_result"
    },
    {
     "data": {
      "image/png": "[encoded data removed]",
      "text/plain": [
       "<Figure size 432x288 with 1 Axes>"
      ]
     },
     "metadata": {
      "needs_background": "light"
     },
     "output_type": "display_data"
    }
   ],
   "source": [
    "import matplotlib.pyplot as plt\n",
    "width = 0.5\n",
    "plt.bar(count_nucleotides.keys(), count_nucleotides.values(), width, color=['b', 'r', 'm', 'c'])\n",
    "plt.xlabel('Nucleotide')\n",
    "plt.ylabel('Frequency')\n",
    "plt.title('Nucleotide Frequency')"
   ]
  },
  {
   "cell_type": "markdown",
   "id": "95282b5a",
   "metadata": {},
   "source": [
    "First observation: The frequency of the nucleotides A and T is higher than the frequency of C and G. "
   ]
  },
  {
   "cell_type": "markdown",
   "id": "4fd9d2e7",
   "metadata": {},
   "source": [
    "Understanding this genetic information is the key to find cures and vaccines. So, the question here is: How do we extract information from this long sequence of letters?\n",
    "\n",
    "This process is called gene expression: Gene expression is the process by which information from a gene is used in the synthesis of a functional gene product. These products are often proteins"
   ]
  },
  {
   "cell_type": "markdown",
   "id": "f3dceb27",
   "metadata": {},
   "source": [
    "### Transcription\n",
    "Transcription is the first step in gene expression. It involves copying a gene's DNA sequence to make an RNA molecule."
   ]
  },
  {
   "cell_type": "code",
   "execution_count": 11,
   "id": "37abeb90",
   "metadata": {},
   "outputs": [
    {
     "data": {
      "text/plain": [
       "Seq('AUUAAAGGUUUAUACCUUCCCAGGUAACAAACCAACCAACUUUCGAUCUCUUGU...AAA')"
      ]
     },
     "execution_count": 11,
     "metadata": {},
     "output_type": "execute_result"
    }
   ],
   "source": [
    "covid_mrna = covid_dna.transcribe()\n",
    "covid_mrna"
   ]
  },
  {
   "cell_type": "markdown",
   "id": "f522814b",
   "metadata": {},
   "source": [
    "### Translation\n",
    "Translation is the process that takes the information passed from DNA as messenger RNA and turns it into a series of amino acids."
   ]
  },
  {
   "cell_type": "code",
   "execution_count": 12,
   "id": "22412b63",
   "metadata": {},
   "outputs": [
    {
     "name": "stderr",
     "output_type": "stream",
     "text": [
      "/Users/lanacaldarevic/opt/miniconda3/envs/12daysofbiopython/lib/python3.8/site-packages/Bio/Seq.py:2979: BiopythonWarning: Partial codon, len(sequence) not a multiple of three. Explicitly trim the sequence or add trailing N before translation. This may become an error in future.\n",
      "  warnings.warn(\n"
     ]
    },
    {
     "data": {
      "text/plain": [
       "Seq('IKGLYLPR*QTNQLSISCRSVL*TNFKICVAVTRLHA*CTHAV*LITNYCR*QD...KKK')"
      ]
     },
     "execution_count": 12,
     "metadata": {},
     "output_type": "execute_result"
    }
   ],
   "source": [
    "covid_aa = covid_mrna.translate()\n",
    "covid_aa"
   ]
  },
  {
   "cell_type": "code",
   "execution_count": 13,
   "id": "8045a7de",
   "metadata": {},
   "outputs": [
    {
     "data": {
      "text/plain": [
       "[('L', 886),\n",
       " ('S', 810),\n",
       " ('*', 774),\n",
       " ('T', 679),\n",
       " ('C', 635),\n",
       " ('F', 593),\n",
       " ('R', 558),\n",
       " ('V', 548),\n",
       " ('Y', 505),\n",
       " ('N', 472)]"
      ]
     },
     "execution_count": 13,
     "metadata": {},
     "output_type": "execute_result"
    }
   ],
   "source": [
    "#most common amino acids\n",
    "from collections import Counter\n",
    "common_amino = Counter(covid_aa)\n",
    "common_amino.most_common(10)"
   ]
  },
  {
   "cell_type": "code",
   "execution_count": 14,
   "id": "02ef9e78",
   "metadata": {},
   "outputs": [
    {
     "data": {
      "text/plain": [
       "Text(0.5, 1.0, 'Protein Sequence Frequency')"
      ]
     },
     "execution_count": 14,
     "metadata": {},
     "output_type": "execute_result"
    },
    {
     "data": {
      "image/png": "[encoded data removed]",
      "text/plain": [
       "<Figure size 432x288 with 1 Axes>"
      ]
     },
     "metadata": {
      "needs_background": "light"
     },
     "output_type": "display_data"
    }
   ],
   "source": [
    "del common_amino['*']\n",
    "\n",
    "width = 0.5\n",
    "plt.bar(common_amino.keys(), common_amino.values(), width, color=['b', 'r', 'm', 'c'])\n",
    "plt.xlabel('Amino Acid')\n",
    "plt.ylabel('Frequency')\n",
    "plt.title('Protein Sequence Frequency')"
   ]
  },
  {
   "cell_type": "code",
   "execution_count": 15,
   "id": "f8c7254e",
   "metadata": {},
   "outputs": [
    {
     "name": "stdout",
     "output_type": "stream",
     "text": [
      "Covid-19's genome has 9193 amino acids\n"
     ]
    }
   ],
   "source": [
    "print(f\"Covid-19's genome has {sum(common_amino.values())} amino acids\")"
   ]
  },
  {
   "cell_type": "markdown",
   "id": "29e618b1",
   "metadata": {},
   "source": [
    "The split() function splits the sequence at any stop codon and keeps the amino acids chains separated. This makes it easier for further analysis."
   ]
  },
  {
   "cell_type": "code",
   "execution_count": 16,
   "id": "6630a88c",
   "metadata": {},
   "outputs": [],
   "source": [
    "proteins = covid_aa.split('*')"
   ]
  },
  {
   "cell_type": "code",
   "execution_count": 17,
   "id": "4f03ee1e",
   "metadata": {},
   "outputs": [
    {
     "data": {
      "text/plain": [
       "[Seq('IKGLYLPR'),\n",
       " Seq('QTNQLSISCRSVL'),\n",
       " Seq('TNFKICVAVTRLHA'),\n",
       " Seq('CTHAV'),\n",
       " Seq('LITNYCR')]"
      ]
     },
     "execution_count": 17,
     "metadata": {},
     "output_type": "execute_result"
    }
   ],
   "source": [
    "proteins[:5]"
   ]
  },
  {
   "cell_type": "code",
   "execution_count": 18,
   "id": "4cdb57fe",
   "metadata": {},
   "outputs": [
    {
     "name": "stdout",
     "output_type": "stream",
     "text": [
      "We have 775 amino acids in the covid-19 genome\n"
     ]
    }
   ],
   "source": [
    "print(f'We have {len(proteins)} amino acids in the covid-19 genome')"
   ]
  },
  {
   "cell_type": "markdown",
   "id": "b1a1c143",
   "metadata": {},
   "source": [
    "It's worth to mention that not all the amino acids sequences are proteins. Only the sequences with more than 20 amino acids code for functional proteins. The short amino acid sequences are oligopeptides and have other functionalities. Here, we will focus on the chains with more than 20 amino acid chains: Proteins."
   ]
  },
  {
   "cell_type": "code",
   "execution_count": 19,
   "id": "11a8bafc",
   "metadata": {},
   "outputs": [],
   "source": [
    "for protein in proteins:\n",
    "    if len(protein) < 20:\n",
    "        proteins.remove(protein)"
   ]
  },
  {
   "cell_type": "code",
   "execution_count": 20,
   "id": "49dee6b0",
   "metadata": {},
   "outputs": [
    {
     "name": "stdout",
     "output_type": "stream",
     "text": [
      "We have 409 proteins with more than 20 amino acids in the covid-19 genome\n"
     ]
    }
   ],
   "source": [
    "print(f'We have {len(proteins)} proteins with more than 20 amino acids in the covid-19 genome')"
   ]
  },
  {
   "cell_type": "code",
   "execution_count": 25,
   "id": "5ace55cf",
   "metadata": {},
   "outputs": [],
   "source": [
    "top_5_proteins = sorted(proteins, key = len)"
   ]
  },
  {
   "cell_type": "code",
   "execution_count": 26,
   "id": "ad15053d",
   "metadata": {},
   "outputs": [
    {
     "data": {
      "text/plain": [
       "Seq('CTIVFKRVCGVSAARLTPCGTGTSTDVVYRAFDIYNDKVAGFAKFLKTNCCRFQ...VNN')"
      ]
     },
     "execution_count": 26,
     "metadata": {},
     "output_type": "execute_result"
    }
   ],
   "source": [
    "top_5_proteins[-1]"
   ]
  },
  {
   "cell_type": "code",
   "execution_count": 27,
   "id": "1951a5f5",
   "metadata": {},
   "outputs": [
    {
     "data": {
      "text/plain": [
       "2701"
      ]
     },
     "execution_count": 27,
     "metadata": {},
     "output_type": "execute_result"
    }
   ],
   "source": [
    "len(top_5_proteins[-1])"
   ]
  },
  {
   "cell_type": "markdown",
   "id": "13df78bb",
   "metadata": {},
   "source": [
    "Save this protein to file for further analysis"
   ]
  },
  {
   "cell_type": "code",
   "execution_count": 24,
   "id": "be05c8eb",
   "metadata": {},
   "outputs": [],
   "source": [
    "with open(\"protein_seq.fasta\", \"w\") as file:\n",
    "    file.write(f\">covid protein\\n{top_5_proteins[-1]}\")"
   ]
  },
  {
   "cell_type": "markdown",
   "id": "f55f402d",
   "metadata": {},
   "source": [
    "## Summary of Findings\n",
    "- Sequence length: 29,903 base pairs\n",
    "- GC content: 37.97%\n",
    "- Has high amount of Leucine L and Serine S\n",
    "- 409 proteins with more than 20 amino acids\n",
    "- The largest protein is of length of 2,701 amino acid.\n"
   ]
  }
 ],
 "metadata": {
  "kernelspec": {
   "display_name": "Python (biopython-env)",
   "language": "python",
   "name": "12daysofbiopython-env"
  },
  "language_info": {
   "codemirror_mode": {
    "name": "ipython",
    "version": 3
   },
   "file_extension": ".py",
   "mimetype": "text/x-python",
   "name": "python",
   "nbconvert_exporter": "python",
   "pygments_lexer": "ipython3",
   "version": "3.8.12"
  }
 },
 "nbformat": 4,
 "nbformat_minor": 5
}
