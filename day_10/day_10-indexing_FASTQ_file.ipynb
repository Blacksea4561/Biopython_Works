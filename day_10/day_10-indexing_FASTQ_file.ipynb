{
 "cells": [
  {
   "cell_type": "markdown",
   "id": "641e72b5",
   "metadata": {},
   "source": [
    "# Indexing a FASTQ file - how to read big FASTQ file faster?"
   ]
  },
  {
   "cell_type": "markdown",
   "id": "6a1c149b",
   "metadata": {},
   "source": [
    "FASTQ files are usually very large, with millions of reads in them. Due to the sheer amount of data, you can’t load all the records into memory at once. This is why when doing filtering and trimming we can iterate over the file looking at just one SeqRecord at a time.\n",
    "However, sometimes you can’t use a big loop or an iterator - you may need random access to the reads. Here the Bio.SeqIO.index() function may prove very helpful, as it allows you to access any read in the FASTQ file by its name. So this is useful when you know the ID of the sequence you would like to access, as it allows instant read, instead of looping through file until you find desired sequence."
   ]
  },
  {
   "cell_type": "markdown",
   "id": "6ee549ba",
   "metadata": {},
   "source": [
    "### Download data\n",
    "Downloading ~1GB FASTQ file - takes around 2 mins"
   ]
  },
  {
   "cell_type": "code",
   "execution_count": 7,
   "id": "db37155c",
   "metadata": {},
   "outputs": [
    {
     "name": "stdout",
     "output_type": "stream",
     "text": [
      "--2021-12-13 13:41:10--  ftp://ftp.sra.ebi.ac.uk/vol1/fastq/SRR494/SRR494102/SRR494102.fastq.gz\n",
      "           => ‘SRR494102.fastq.gz’\n",
      "Resolving ftp.sra.ebi.ac.uk (ftp.sra.ebi.ac.uk)... 193.62.197.74\n",
      "Connecting to ftp.sra.ebi.ac.uk (ftp.sra.ebi.ac.uk)|193.62.197.74|:21... connected.\n",
      "Logging in as anonymous ... Logged in!\n",
      "==> SYST ... done.    ==> PWD ... done.\n",
      "==> TYPE I ... done.  ==> CWD (1) /vol1/fastq/SRR494/SRR494102 ... done.\n",
      "==> SIZE SRR494102.fastq.gz ... 1012260883\n",
      "==> PASV ... done.    ==> RETR SRR494102.fastq.gz ... done.\n",
      "Length: 1012260883 (965M) (unauthoritative)\n",
      "\n",
      "SRR494102.fastq.gz  100%[===================>] 965,37M  12,7MB/s    in 79s     \n",
      "\n",
      "2021-12-13 13:42:29 (12,2 MB/s) - ‘SRR494102.fastq.gz’ saved [1012260883]\n",
      "\n"
     ]
    }
   ],
   "source": [
    "!wget ftp://ftp.sra.ebi.ac.uk/vol1/fastq/SRR494/SRR494102/SRR494102.fastq.gz"
   ]
  },
  {
   "cell_type": "code",
   "execution_count": 8,
   "id": "106eb36e",
   "metadata": {},
   "outputs": [],
   "source": [
    "# unzip FASTQ file ~4GB\n",
    "!gzip -d SRR494102.fastq.gz"
   ]
  },
  {
   "cell_type": "markdown",
   "id": "e06d3d11",
   "metadata": {},
   "source": [
    "Indexing approach provides dictionary like access to any record -> indexing of this big FASTQ file of 27_626_583 reads takes around 2 minutes"
   ]
  },
  {
   "cell_type": "code",
   "execution_count": 9,
   "id": "c0a7be3e",
   "metadata": {},
   "outputs": [],
   "source": [
    "from Bio import SeqIO\n",
    "fq_dict = SeqIO.index(\"SRR494102.fastq\", \"fastq\")"
   ]
  },
  {
   "cell_type": "code",
   "execution_count": 4,
   "id": "a3d65bfc",
   "metadata": {},
   "outputs": [
    {
     "data": {
      "text/plain": [
       "27626583"
      ]
     },
     "execution_count": 4,
     "metadata": {},
     "output_type": "execute_result"
    }
   ],
   "source": [
    "len(fq_dict)"
   ]
  },
  {
   "cell_type": "code",
   "execution_count": 5,
   "id": "e4748a35",
   "metadata": {},
   "outputs": [
    {
     "data": {
      "text/plain": [
       "['SRR494102.1', 'SRR494102.2', 'SRR494102.3', 'SRR494102.4']"
      ]
     },
     "execution_count": 5,
     "metadata": {},
     "output_type": "execute_result"
    }
   ],
   "source": [
    "list(fq_dict.keys())[:4]"
   ]
  },
  {
   "cell_type": "markdown",
   "id": "afb47831",
   "metadata": {},
   "source": [
    "Although indexing takes some time, record access is almost insant!"
   ]
  },
  {
   "cell_type": "code",
   "execution_count": 10,
   "id": "172c72a8",
   "metadata": {},
   "outputs": [
    {
     "data": {
      "text/plain": [
       "Seq('AGCAACCACCATGACCACCCCTTCACCAACCACCAC')"
      ]
     },
     "execution_count": 10,
     "metadata": {},
     "output_type": "execute_result"
    }
   ],
   "source": [
    "fq_dict[\"SRR494102.20000\"].seq # get 20_000th sequence"
   ]
  }
 ],
 "metadata": {
  "kernelspec": {
   "display_name": "Python (biopython-env)",
   "language": "python",
   "name": "12daysofbiopython-env"
  },
  "language_info": {
   "codemirror_mode": {
    "name": "ipython",
    "version": 3
   },
   "file_extension": ".py",
   "mimetype": "text/x-python",
   "name": "python",
   "nbconvert_exporter": "python",
   "pygments_lexer": "ipython3",
   "version": "3.8.12"
  }
 },
 "nbformat": 4,
 "nbformat_minor": 5
}
