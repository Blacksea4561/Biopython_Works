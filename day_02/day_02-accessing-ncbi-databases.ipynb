{
 "cells": [
  {
   "cell_type": "markdown",
   "id": "9ab93ccb",
   "metadata": {},
   "source": [
    "# Accessing NCBI databases with Biopython"
   ]
  },
  {
   "cell_type": "markdown",
   "id": "8f349d45",
   "metadata": {},
   "source": [
    "we will look at how to access such databases at the National Center for Biotechnology Information (NCBI). We will not only discuss GenBank, but also other databases at NCBI. Many people refer (wrongly) to the whole set of NCBI databases as GenBank, but NCBI includes the nucleotide database and many others, for example, PubMed."
   ]
  },
  {
   "cell_type": "markdown",
   "id": "39317413",
   "metadata": {},
   "source": [
    "## Check available databases at NCBI\n",
    "Biopython provides an interface to Entrez, the data retrieval system made available by NCBI. Entrez can also be used through web browser: https://www.ncbi.nlm.nih.gov/search/\n",
    "\n",
    "\n",
    "**TIPS:**\n",
    "- specify an email address with your query\n",
    "- avoid large number of requests (100 or more) during peak times (between 9.00 a.m. and 5.00 p.m. American Eastern Time on weekdays)\n",
    "- do not post more than three queries per second (Biopython will take care of this for you)\n",
    "\n",
    "It's not only good citizenship, but you risk getting blocked if you over use NCBI's servers (a good reason to give a real email address, because NCBI may try to contact you)."
   ]
  },
  {
   "cell_type": "code",
   "execution_count": 1,
   "id": "d2133636",
   "metadata": {},
   "outputs": [],
   "source": [
    "from Bio import Entrez, SeqIO"
   ]
  },
  {
   "cell_type": "code",
   "execution_count": 2,
   "id": "7d6d09c2",
   "metadata": {},
   "outputs": [],
   "source": [
    "Entrez.email = \"\" "
   ]
  },
  {
   "cell_type": "markdown",
   "id": "7c9d058a",
   "metadata": {},
   "source": [
    "**EInfo:** obtain a list of all database names accessible through Entrez"
   ]
  },
  {
   "cell_type": "code",
   "execution_count": 3,
   "id": "c9c6c586",
   "metadata": {},
   "outputs": [
    {
     "name": "stdout",
     "output_type": "stream",
     "text": [
      "dict_keys(['DbList'])\n"
     ]
    }
   ],
   "source": [
    "# This gives you the list of available databases\n",
    "handle = Entrez.einfo()\n",
    "rec = Entrez.read(handle)\n",
    "handle.close()\n",
    "print(rec.keys())"
   ]
  },
  {
   "cell_type": "code",
   "execution_count": 4,
   "id": "774f18ad",
   "metadata": {},
   "outputs": [
    {
     "data": {
      "text/plain": [
       "['pubmed', 'protein', 'nuccore', 'ipg', 'nucleotide', 'structure', 'genome', 'annotinfo', 'assembly', 'bioproject', 'biosample', 'blastdbinfo', 'books', 'cdd', 'clinvar', 'gap', 'gapplus', 'grasp', 'dbvar', 'gene', 'gds', 'geoprofiles', 'homologene', 'medgen', 'mesh', 'ncbisearch', 'nlmcatalog', 'omim', 'orgtrack', 'pmc', 'popset', 'proteinclusters', 'pcassay', 'protfam', 'biosystems', 'pccompound', 'pcsubstance', 'seqannot', 'snp', 'sra', 'taxonomy', 'biocollections', 'gtr']"
      ]
     },
     "execution_count": 4,
     "metadata": {},
     "output_type": "execute_result"
    }
   ],
   "source": [
    "rec['DbList']"
   ]
  },
  {
   "cell_type": "markdown",
   "id": "9ec19177",
   "metadata": {},
   "source": [
    "We will now try to find the **chloroquine resistance transporter (CRT)** gene (KM288867) in **Plasmodium falciparum** (the parasite that causes the deadliest form of malaria) on the nucleotide database:"
   ]
  },
  {
   "cell_type": "markdown",
   "id": "1e0fc8c0",
   "metadata": {},
   "source": [
    "**ESearch:** Searching the Entrez databases\n",
    "\n",
    "Note that the standard search will limit the number of record references to **20**, so if we have more, we can override **retmax** to desired amount of records."
   ]
  },
  {
   "cell_type": "code",
   "execution_count": 5,
   "id": "c7216004",
   "metadata": {},
   "outputs": [
    {
     "data": {
      "text/plain": [
       "'1374'"
      ]
     },
     "execution_count": 5,
     "metadata": {},
     "output_type": "execute_result"
    }
   ],
   "source": [
    "handle = Entrez.esearch(db=\"nucleotide\", term='CRT[Gene Name] AND \"Plasmodium falciparum\"[Organism]', retmax=\"40\")\n",
    "rec_list = Entrez.read(handle)\n",
    "handle.close()\n",
    "rec_list['Count']"
   ]
  },
  {
   "cell_type": "code",
   "execution_count": 6,
   "id": "c5ed0ce5",
   "metadata": {},
   "outputs": [
    {
     "data": {
      "text/plain": [
       "40"
      ]
     },
     "execution_count": 6,
     "metadata": {},
     "output_type": "execute_result"
    }
   ],
   "source": [
    "len(rec_list['IdList'])"
   ]
  },
  {
   "cell_type": "code",
   "execution_count": 7,
   "id": "d646240c",
   "metadata": {},
   "outputs": [
    {
     "data": {
      "text/plain": [
       "['2049839867', '2049839865', '2049839863', '2049839861', '2049839859', '2049839857', '2049839855', '2049839853', '2049839851', '2049839849', '2049839847', '2049839845', '2049839843', '2049839841', '2049839839', '2049839837', '2049839835', '2049839833', '2049839831', '2049839829', '2049839827', '2049839825', '2049839823', '2049839821', '2049839819', '2049839817', '2049839815', '2049839813', '2049839811', '2049839809', '2049839807', '2049839805', '2049839803', '2049839801', '2049839799', '2049839797', '2049839795', '2049839793', '2049839791', '2049839789']"
      ]
     },
     "execution_count": 7,
     "metadata": {},
     "output_type": "execute_result"
    }
   ],
   "source": [
    "rec_list['IdList']"
   ]
  },
  {
   "cell_type": "markdown",
   "id": "559a1ab6",
   "metadata": {},
   "source": [
    "We now have the IDs of all of the records, but we still need to retrieve the records properly.\n",
    "\n",
    "**EFetch:** Downloading full records from Entrez\n",
    "\n",
    "\n",
    "Requesting a specific file format from Entrez using Bio.Entrez.efetch() requires specifying the **rettype** and/or **retmode** optional arguments. The different combinations are described for each database type on the pages linked to on NCBI efetch webpage - https://www.ncbi.nlm.nih.gov/books/NBK25499/#chapter4.EFetch\n",
    "\n",
    "rettype - return type, gb == GenBank\n",
    "retmax - Total number of records from the input set to be retrieved, up to a maximum of 10,000"
   ]
  },
  {
   "cell_type": "code",
   "execution_count": 8,
   "id": "e6d77565",
   "metadata": {},
   "outputs": [],
   "source": [
    "id_list = rec_list['IdList']\n",
    "handle = Entrez.efetch(db='nucleotide', id=id_list, rettype='gb') # genbank format, we need to parse it with SeqIO module"
   ]
  },
  {
   "cell_type": "code",
   "execution_count": 9,
   "id": "df3840bb",
   "metadata": {},
   "outputs": [],
   "source": [
    "recs = list(SeqIO.parse(handle, 'gb'))\n",
    "handle.close()"
   ]
  },
  {
   "cell_type": "markdown",
   "id": "c17b4e1a",
   "metadata": {},
   "source": [
    "Note that we have converted an iterator (the result of SeqIO.parse) to a list. The advantage of doing this is that we can use the result as many times as we want (for example, iterate many times over), without repeating the query on the server."
   ]
  },
  {
   "cell_type": "code",
   "execution_count": 10,
   "id": "9318bdfa",
   "metadata": {},
   "outputs": [
    {
     "data": {
      "text/plain": [
       "[SeqRecord(seq=Seq('ATGAAATTCGCAAGTAAAAAAAATAATCAAAAAAATTCAAGCAAAAATGACGAG...TAA'), id='MW275076.1', name='MW275076', description='Plasmodium falciparum isolate OM-17-323 chloroquine resistance transporter (crt) gene, partial cds', dbxrefs=[]),\n",
       " SeqRecord(seq=Seq('ATGAAATTCGCAAGTAAAAAAAATAATCAAAAAAATTCAAGCAAAAATGACGAG...TAA'), id='MW275075.1', name='MW275075', description='Plasmodium falciparum isolate OM-17-322 chloroquine resistance transporter (crt) gene, partial cds', dbxrefs=[]),\n",
       " SeqRecord(seq=Seq('ATGAAATTCGCAAGTAAAAAAAATAATCAAAAAAATTCAAGCAAAAATGACGAG...TAA'), id='MW275074.1', name='MW275074', description='Plasmodium falciparum isolate OM-17-321 chloroquine resistance transporter (crt) gene, partial cds', dbxrefs=[]),\n",
       " SeqRecord(seq=Seq('ATGAAATTCGCAAGTAAAAAAAATAATCAAAAAAATTCAAGCAAAAATGACGAG...TAA'), id='MW275073.1', name='MW275073', description='Plasmodium falciparum isolate OM-17-320 chloroquine resistance transporter (crt) gene, partial cds', dbxrefs=[]),\n",
       " SeqRecord(seq=Seq('ATGAAATTCGCAAGTAAAAAAAATAATCAAAAAAATTCAAGCAAAAATGACGAG...TAA'), id='MW275072.1', name='MW275072', description='Plasmodium falciparum isolate OM-17-319 chloroquine resistance transporter (crt) gene, partial cds', dbxrefs=[]),\n",
       " SeqRecord(seq=Seq('ATGAAATTCGCAAGTAAAAAAAATAATCAAAAAAATTCAAGCAAAAATGACGAG...TAA'), id='MW275071.1', name='MW275071', description='Plasmodium falciparum isolate OM-17-318 chloroquine resistance transporter (crt) gene, partial cds', dbxrefs=[]),\n",
       " SeqRecord(seq=Seq('ATGAAATTCGCAAGTAAAAAAAATAATCAAAAAAATTCAAGCAAAAATGACGAG...TAA'), id='MW275070.1', name='MW275070', description='Plasmodium falciparum isolate OM-17-317 chloroquine resistance transporter (crt) gene, partial cds', dbxrefs=[]),\n",
       " SeqRecord(seq=Seq('ATGAAATTCGCAAGTAAAAAAAATAATCAAAAAAATTCAAGCAAAAATGACGAG...TAA'), id='MW275069.1', name='MW275069', description='Plasmodium falciparum isolate OM-17-316 chloroquine resistance transporter (crt) gene, partial cds', dbxrefs=[]),\n",
       " SeqRecord(seq=Seq('ATGAAATTCGCAAGTAAAAAAAATAATCAAAAAAATTCAAGCAAAAATGACGAG...TAA'), id='MW275068.1', name='MW275068', description='Plasmodium falciparum isolate OM-17-315 chloroquine resistance transporter (crt) gene, partial cds', dbxrefs=[]),\n",
       " SeqRecord(seq=Seq('ATGAAATTCGCAAGTAAAAAAAATAATCAAAAAAATTCAAGCAAAAATGACGAG...TAA'), id='MW275067.1', name='MW275067', description='Plasmodium falciparum isolate OM-17-314 chloroquine resistance transporter (crt) gene, partial cds', dbxrefs=[]),\n",
       " SeqRecord(seq=Seq('ATGAAATTCGCAAGTAAAAAAAATAATCAAAAAAATTCAAGCAAAAATGACGAG...TAA'), id='MW275066.1', name='MW275066', description='Plasmodium falciparum isolate OM-17-313 chloroquine resistance transporter (crt) gene, partial cds', dbxrefs=[]),\n",
       " SeqRecord(seq=Seq('ATGAAATTCGCAAGTAAAAAAAATAATCAAAAAAATTCAAGCAAAAATGACGAG...TAA'), id='MW275065.1', name='MW275065', description='Plasmodium falciparum isolate OM-17-312 chloroquine resistance transporter (crt) gene, partial cds', dbxrefs=[]),\n",
       " SeqRecord(seq=Seq('ATGAAATTCGCAAGTAAAAAAAATAATCAAAAAAATTCAAGCAAAAATGACGAG...TAA'), id='MW275064.1', name='MW275064', description='Plasmodium falciparum isolate OM-17-311 chloroquine resistance transporter (crt) gene, partial cds', dbxrefs=[]),\n",
       " SeqRecord(seq=Seq('ATGAAATTCGCAAGTAAAAAAAATAATCAAAAAAATTCAAGCAAAAATGACGAG...TAA'), id='MW275063.1', name='MW275063', description='Plasmodium falciparum isolate OM-17-310 chloroquine resistance transporter (crt) gene, partial cds', dbxrefs=[]),\n",
       " SeqRecord(seq=Seq('ATGAAATTCGCAAGTAAAAAAAATAATCAAAAAAATTCAAGCAAAAATGACGAG...TAA'), id='MW275062.1', name='MW275062', description='Plasmodium falciparum isolate OM-17-309 chloroquine resistance transporter (crt) gene, partial cds', dbxrefs=[]),\n",
       " SeqRecord(seq=Seq('ATGAAATTCGCAAGTAAAAAAAATAATCAAAAAAATTCAAGCAAAAATGACGAG...TAA'), id='MW275061.1', name='MW275061', description='Plasmodium falciparum isolate OM-17-308 chloroquine resistance transporter (crt) gene, partial cds', dbxrefs=[]),\n",
       " SeqRecord(seq=Seq('ATGAAATTCGCAAGTAAAAAAAATAATCAAAAAAATTCAAGCAAAAATGACGAG...TAA'), id='MW275060.1', name='MW275060', description='Plasmodium falciparum isolate OM-17-307 chloroquine resistance transporter (crt) gene, partial cds', dbxrefs=[]),\n",
       " SeqRecord(seq=Seq('ATGAAATTCGCAAGTAAAAAAAATAATCAAAAAAATTCAAGCAAAAATGACGAG...TAA'), id='MW275059.1', name='MW275059', description='Plasmodium falciparum isolate OM-17-306 chloroquine resistance transporter (crt) gene, partial cds', dbxrefs=[]),\n",
       " SeqRecord(seq=Seq('ATGAAATTCGCAAGTAAAAAAAATAATCAAAAAAATTCAAGCAAAAATGACGAG...TAA'), id='MW275058.1', name='MW275058', description='Plasmodium falciparum isolate OM-17-305 chloroquine resistance transporter (crt) gene, partial cds', dbxrefs=[]),\n",
       " SeqRecord(seq=Seq('ATGAAATTCGCAAGTAAAAAAAATAATCAAAAAAATTCAAGCAAAAATGACGAG...TAA'), id='MW275057.1', name='MW275057', description='Plasmodium falciparum isolate OM-17-304 chloroquine resistance transporter (crt) gene, partial cds', dbxrefs=[]),\n",
       " SeqRecord(seq=Seq('ATGAAATTCGCAAGTAAAAAAAATAATCAAAAAAATTCAAGCAAAAATGACGAG...TAA'), id='MW275056.1', name='MW275056', description='Plasmodium falciparum isolate OM-17-303 chloroquine resistance transporter (crt) gene, partial cds', dbxrefs=[]),\n",
       " SeqRecord(seq=Seq('ATGAAATTCGCAAGTAAAAAAAATAATCAAAAAAATTCAAGCAAAAATGACGAG...TAA'), id='MW275055.1', name='MW275055', description='Plasmodium falciparum isolate OM-17-302 chloroquine resistance transporter (crt) gene, partial cds', dbxrefs=[]),\n",
       " SeqRecord(seq=Seq('ATGAAATTCGCAAGTAAAAAAAATAATCAAAAAAATTCAAGCAAAAATGACGAG...TAA'), id='MW275054.1', name='MW275054', description='Plasmodium falciparum isolate OM-17-301 chloroquine resistance transporter (crt) gene, partial cds', dbxrefs=[]),\n",
       " SeqRecord(seq=Seq('ATGAAATTCGCAAGTAAAAAAAATAATCAAAAAAATTCAAGCAAAAATGACGAG...TAA'), id='MW275053.1', name='MW275053', description='Plasmodium falciparum isolate OM-17-300 chloroquine resistance transporter (crt) gene, partial cds', dbxrefs=[]),\n",
       " SeqRecord(seq=Seq('ATGAAATTCGCAAGTAAAAAAAATAATCAAAAAAATTCAAGCAAAAATGACGAG...TAA'), id='MW275052.1', name='MW275052', description='Plasmodium falciparum isolate OM-17-299 chloroquine resistance transporter (crt) gene, partial cds', dbxrefs=[]),\n",
       " SeqRecord(seq=Seq('ATGAAATTCGCAAGTAAAAAAAATAATCAAAAAAATTCAAGCAAAAATGACGAG...TAA'), id='MW275051.1', name='MW275051', description='Plasmodium falciparum isolate OM-17-298 chloroquine resistance transporter (crt) gene, partial cds', dbxrefs=[]),\n",
       " SeqRecord(seq=Seq('ATGAAATTCGCAAGTAAAAAAAATAATCAAAAAAATTCAAGCAAAAATGACGAG...TAA'), id='MW275050.1', name='MW275050', description='Plasmodium falciparum isolate OM-17-297 chloroquine resistance transporter (crt) gene, partial cds', dbxrefs=[]),\n",
       " SeqRecord(seq=Seq('ATGAAATTCGCAAGTAAAAAAAATAATCAAAAAAATTCAAGCAAAAATGACGAG...TAA'), id='MW275049.1', name='MW275049', description='Plasmodium falciparum isolate OM-17-296 chloroquine resistance transporter (crt) gene, partial cds', dbxrefs=[]),\n",
       " SeqRecord(seq=Seq('ATGAAATTCGCAAGTAAAAAAAATAATCAAAAAAATTCAAGCAAAAATGACGAG...TAA'), id='MW275048.1', name='MW275048', description='Plasmodium falciparum isolate OM-17-295 chloroquine resistance transporter (crt) gene, partial cds', dbxrefs=[]),\n",
       " SeqRecord(seq=Seq('ATGAAATTCGCAAGTAAAAAAAATAATCAAAAAAATTCAAGCAAAAATGACGAG...TAA'), id='MW275047.1', name='MW275047', description='Plasmodium falciparum isolate OM-17-294 chloroquine resistance transporter (crt) gene, partial cds', dbxrefs=[]),\n",
       " SeqRecord(seq=Seq('ATGAAATTCGCAAGTAAAAAAAATAATCAAAAAAATTCAAGCAAAAATGACGAG...TAA'), id='MW275046.1', name='MW275046', description='Plasmodium falciparum isolate OM-17-293 chloroquine resistance transporter (crt) gene, partial cds', dbxrefs=[]),\n",
       " SeqRecord(seq=Seq('ATGAAATTCGCAAGTAAAAAAAATAATCAAAAAAATTCAAGCAAAAATGACGAG...TAA'), id='MW275045.1', name='MW275045', description='Plasmodium falciparum isolate OM-17-292 chloroquine resistance transporter (crt) gene, partial cds', dbxrefs=[]),\n",
       " SeqRecord(seq=Seq('ATGAAATTCGCAAGTAAAAAAAATAATCAAAAAAATTCAAGCAAAAATGACGAG...TAA'), id='MW275044.1', name='MW275044', description='Plasmodium falciparum isolate OM-17-291 chloroquine resistance transporter (crt) gene, partial cds', dbxrefs=[]),\n",
       " SeqRecord(seq=Seq('ATGAAATTCGCAAGTAAAAAAAATAATCAAAAAAATTCAAGCAAAAATGACGAG...TAA'), id='MW275043.1', name='MW275043', description='Plasmodium falciparum isolate OM-17-290 chloroquine resistance transporter (crt) gene, partial cds', dbxrefs=[]),\n",
       " SeqRecord(seq=Seq('ATGAAATTCGCAAGTAAAAAAAATAATCAAAAAAATTCAAGCAAAAATGACGAG...TAA'), id='MW275042.1', name='MW275042', description='Plasmodium falciparum isolate OM-17-289 chloroquine resistance transporter (crt) gene, partial cds', dbxrefs=[]),\n",
       " SeqRecord(seq=Seq('ATGAAATTCGCAAGTAAAAAAAATAATCAAAAAAATTCAAGCAAAAATGACGAG...TAA'), id='MW275041.1', name='MW275041', description='Plasmodium falciparum isolate OM-17-288 chloroquine resistance transporter (crt) gene, partial cds', dbxrefs=[]),\n",
       " SeqRecord(seq=Seq('ATGAAATTCGCAAGTAAAAAAAATAATCAAAAAAATTCAAGCAAAAATGACGAG...TAA'), id='MW275040.1', name='MW275040', description='Plasmodium falciparum isolate OM-17-287 chloroquine resistance transporter (crt) gene, partial cds', dbxrefs=[]),\n",
       " SeqRecord(seq=Seq('ATGAAATTCGCAAGTAAAAAAAATAATCAAAAAAATTCAAGCAAAAATGACGAG...TAA'), id='MW275039.1', name='MW275039', description='Plasmodium falciparum isolate OM-17-286 chloroquine resistance transporter (crt) gene, partial cds', dbxrefs=[]),\n",
       " SeqRecord(seq=Seq('ATGAAATTCGCAAGTAAAAAAAATAATCAAAAAAATTCAAGCAAAAATGACGAG...TAA'), id='MW275038.1', name='MW275038', description='Plasmodium falciparum isolate OM-17-285 chloroquine resistance transporter (crt) gene, partial cds', dbxrefs=[]),\n",
       " SeqRecord(seq=Seq('ATGAAATTCGCAAGTAAAAAAAATAATCAAAAAAATTCAAGCAAAAATGACGAG...TAA'), id='MW275037.1', name='MW275037', description='Plasmodium falciparum isolate OM-17-284 chloroquine resistance transporter (crt) gene, partial cds', dbxrefs=[])]"
      ]
     },
     "execution_count": 10,
     "metadata": {},
     "output_type": "execute_result"
    }
   ],
   "source": [
    "recs"
   ]
  },
  {
   "cell_type": "markdown",
   "id": "803e3c35",
   "metadata": {},
   "source": [
    " However, be careful with this technique, because you will retrieve a large amount of complete records, and some of them will have fairly large sequences inside. You risk downloading a lot of data (which would be a strain both on your side and on NCBI servers)."
   ]
  },
  {
   "cell_type": "code",
   "execution_count": 11,
   "id": "7b00c322",
   "metadata": {},
   "outputs": [
    {
     "name": "stdout",
     "output_type": "stream",
     "text": [
      "MW275037\n",
      "Plasmodium falciparum isolate OM-17-284 chloroquine resistance transporter (crt) gene, partial cds\n"
     ]
    }
   ],
   "source": [
    "for rec in recs:\n",
    "    if rec.name == 'KM288867': # try finding CRT gene in 40 records we fetched\n",
    "        break\n",
    "print(rec.name)\n",
    "print(rec.description)"
   ]
  },
  {
   "cell_type": "code",
   "execution_count": 12,
   "id": "2fa7e188",
   "metadata": {},
   "outputs": [
    {
     "data": {
      "text/plain": [
       "'ATGAAATTCGCAAGTAAAAAAAATAATCAAAAAAATTCAAGCAAAAATGACGAGCGTTATAGAGAATTAGATAATTTAGTACAAGAAGGAAGTAAGTATCCAAAAATGGAAATATGGAATGATATAAATGAATAGATAAATCAACCTATTGGATATATATATATATATATATATATATATATATATATATATGTATACCCATATGTATTAATTTTTTTTTTTTTTTTTTTTTTTTTTTTTTTTTTTTTTCCCTTGTCGACCTTAACAGATGGCTCACGTTTAGGTGGAGGTTCTTGTCTTGGTAAATGTGCTCATGTGTTTAAACTTATTTTTAAAGAGATTAAGGATAATATTTTTATTTATATTTTAAGTATTATTTATTTAAGTGTATGTGTAATGAATACAATTTTTGCTAAAAGAACTTTAAACAAAATTGGTAACTATAGTTTTGTAACATCCGAAACTTACAACTTTATTTGTATGATTATGTTCTTTATTGTTTATTCCTTATTTGGAAATAAAAAGGGAAATTCAAAAGTAAGATAAATCAATATATTAAAATGATGGATTTATAAGAGAATCTATTCCACCTACCAATATAAAACATTACACATATATATATATATATATATATATATATATATATATATATATATATGTATGTATGTTGATTAATTTGTTTATATATTTATATTTATTTCTTATGACCTTTTTAGGAACGACACCGAAGCTTTAATTTACAATTTTTTGCTATATCCATGTTAGATGCCTGTTCAGTCATTTTGGCCTTCATAGGTCTTACAAGAACTACTGGAAATATCCAATCATTTGTTCTTCAATTAAGTATTCCTATTAATATGTTCTTCTGCTTTTTAATATTAAGATATAGGTAAGTATACTATTTTAAATTACAAAAAAAAAAAAAAAAAAAAAAAAAAAAAAAAAAAAAAAAATATAAAATATATATATATATTTATATATATTTATTTATATATTTATATATATTTATTTATATATTTATATATTTATTTATTTATATTTATTTATTTACTCCTTTTTAGATATCACTTATACAATTATCTCGGAGCAGTTATTATTGTTGTAACAATAGCTCTTGTAGAAATGAAATTATCTTTTGAAACACAAGAAGAAAATTCTATCATATTTAATCTTGTCTTAATTAGTTCCTTAATTGTAAGAAAACAAAATATATAAATAAATAAATATATATATATATATATATATATTGTAATATTTAATATATATTAACACTTAAACTTTGTTTTTATTATATTAATTTATATTCTTTATCATTTTTTTTTTTTTTTTTCCTTCTTTTTTTTTTAGCCTGTATGCTTTTCAAACATGACAAGGGAAATAGTTTTTAAAAAATATAAGATTGACATTTTAAGATTAAATGTAAGAAGAAAAATATAATAATAATAATATATATATTATATATATATTTCCTTTTTTACCACTTTTTTTTTTTTTATTCCTATAACGCATTATAATTATTTCTGTTATTTTTATTTCTTATAGGCTATGGTATCCTTTTTCCAATTGTTCACTTCTTGTCTTATATTACCTGTATACACCCTTCCATTTTTAAAAGAACGTAAGAATTAATTAGGAAAGAAAAAATAAAATAAAATGAAATGTGCCCATATATATATATATATATATGTATGTATGTATAATTTTCCCTTTTTAGTTCATTTACCATATAATGAAATATGGACAAATATAAAAAATGGTTTCGCATGTTTATTCTTGGGAAGAAACACAGTCGTAGAGGTAAAATAGGATTTTCATTATATATTAAAAATTACTACTTATTATGTTAATAAAAAAATATGTTTTTTAATGTTCAATTTGTTTTATTTTAATTATTTTTTTTTTTTTTGTTTTGTTTCCTCTTCAGAATTGTGGTCTTGGTATGGCTAAGTTATGTGATGATTGTGACGGAGCATGGGTAAGAAGCTTATAATAAAATTTCAAAATTATAAGAGACATTTATATATATTTTAACAATAATAATTAAATAAAACAATATTATATATATTATATATATTATTATTTTATTTATTATTTTTTATTTTTTTTTTTTAGAAAACCTTCGCATTGTTTTCCTTCTTTAGCATTTGTGATAATTTAATAACCAGCTATGTAAGAATAAAAAGGATGAAAAACGTTGATACATACAAGAGGAAATAAATATGGGAATGTTTAATTGAATTAAGATATATATATATATATATATATATATATATATATATGTAACCATATAATTTTTCATTTTCTATGCTTTTTATAGATTATCGACAAATTTTCTACCATGACATATACTATTGTTAGTTGTATACAAGGTCCAGCAATAGCAATTGCTTATTACTTTAAATTCTTAGCCGTAAGAATTAAAAAGATATAAATATATAAATATATATGTGAAATATATGATATATATGATATATATTTTTTATATGTAATGTTTTTTTTTTTTTTCACAATATACATTTAAATGTTTATGATGGTACAACGTATCATATTTTATAATAATTTTATGCATTCATGTATATTATTTTTACTTTTTAATTTTATAGGGTGATGTTGTAATAGAACCAAGATTATTAGATTTCGTAACTTTGGTAAGTGTGAAATTAAAAAATGAATTTTTTTTTTTTTTTTTTATGAACAAAATAATGTGTATATAATATGTGTGTAATATCAAATGGCTTGTTCGTTCATAAATATTTATATTTTTTTTTTTTTTTTTTTTTTTTTTTTTTTTACAGTTTGGCTACCTATTTGGTTCTATAATTTACCGTGTAGGAAATATTATCTTAGAAAGTAATACAAAAATAAGATAAAAAAATATAATATATAAAATATGTATATTGTTCTTATATATTTTGTTCATATATATATATATATATATATATATTTTTATATTTCCATCTGTCTTTTTATTCTATTGTTATAATTTATCATAAATTTTTTTTAAATTTGCTTACATTAGGAAAAAAAATGAGAAATGAAGAAAATGAAGATTCCGAAGGAGAATTAACCAACGTCGATTCAATTATTACACAATAA'"
      ]
     },
     "execution_count": 12,
     "metadata": {},
     "output_type": "execute_result"
    }
   ],
   "source": [
    "str(rec.seq)"
   ]
  }
 ],
 "metadata": {
  "kernelspec": {
   "display_name": "Python (biopython-env)",
   "language": "python",
   "name": "12daysofbiopython-env"
  },
  "language_info": {
   "codemirror_mode": {
    "name": "ipython",
    "version": 3
   },
   "file_extension": ".py",
   "mimetype": "text/x-python",
   "name": "python",
   "nbconvert_exporter": "python",
   "pygments_lexer": "ipython3",
   "version": "3.8.12"
  }
 },
 "nbformat": 4,
 "nbformat_minor": 5
}
