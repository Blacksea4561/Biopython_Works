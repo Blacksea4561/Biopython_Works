{
 "cells": [
  {
   "cell_type": "markdown",
   "id": "55e5bb2a",
   "metadata": {
    "slideshow": {
     "slide_type": "slide"
    }
   },
   "source": [
    "# Pairwise Sequence alignments in Biopython\n",
    "**Pairwise Sequence Alignment** is used to identify regions of similarity that may indicate functional, structural and/or evolutionary relationships between two biological sequences (protein or nucleic acid). \n",
    "\n",
    "\n",
    "Identifying the similar region enables us to infer a lot of information like what traits are conserved between species, how close different species genetically are, how species evolve, etc. \n",
    "\n",
    "Pairwise sequence alignment uses a dynamic programming to the optimal alignment between the two sequences, scoring based on their similarity (how similar they are) or distance (how different they are), and then assessing the significance of this score. "
   ]
  },
  {
   "cell_type": "markdown",
   "id": "f5fb68d0",
   "metadata": {
    "slideshow": {
     "slide_type": "slide"
    }
   },
   "source": [
    "### Types of pairwise alignments\n",
    "1. **Global alignment**: This method finds the best alignment over the entire lengths of the 2 sequences. What is the maximum similarity between sequence X and Y?\n",
    "2. **Local alignment**: This method finds the most similar subsequences among the 2 sequences. What is the maximum similarity between a subsequence of X and a subsequence of Y?\n"
   ]
  },
  {
   "cell_type": "markdown",
   "id": "5dc7963a",
   "metadata": {
    "slideshow": {
     "slide_type": "skip"
    }
   },
   "source": [
    "\n",
    "**Pairwise Sequence Alignment** is used to identify regions of similarity that may indicate functional, structural and/or evolutionary relationships between two biological sequences (protein or nucleic acid). \n",
    "\n",
    "This process involves finding the optimal alignment between the two sequences, scoring based on their similarity (how similar they are) or distance (how different they are), and then assessing the significance of this score. Pairwise sequence alignment using a dynamic programming algorithm.\n",
    "\n",
    "\n",
    "Identifying the similar region enables us to infer a lot of information like what traits are conserved between species, how close different species genetically are, how species evolve, etc. \n",
    "\n",
    "\n",
    "### Types of pairwise alignments\n",
    "1. **Global alignment**: This method finds the best alignment over the entire lengths of the 2 sequences. What is the maximum similarity between sequence X and Y?\n",
    "2. **Local alignment**: This method finds the most similar subsequences among the 2 sequences. What is the maximum similarity between a subsequence of X and a subsequence of Y?"
   ]
  },
  {
   "cell_type": "markdown",
   "id": "254fd60c",
   "metadata": {
    "slideshow": {
     "slide_type": "slide"
    }
   },
   "source": [
    "When doing alignments, you can specify the match score and gap penalties. \n",
    "\n",
    "1. The **match score** indicates the compatibility between an alignment of two characters in the sequences. Highly compatible characters should be given positive scores, and incompatible ones should be given negative scores or 0. \n",
    "\n",
    "2. The **gap penalties** should be negative."
   ]
  },
  {
   "cell_type": "markdown",
   "id": "d39b1adb",
   "metadata": {
    "slideshow": {
     "slide_type": "slide"
    }
   },
   "source": [
    "### Bio.pairwise2\n",
    "Biopython includes two built-in pairwise aligners: Bio.pairwise2 module and PairwiseAligner class within the Bio.Align module (since Biopython version 1.72). Both can perform global and local alignments. -> focus on pairwise2\n",
    "\n",
    "The names of the alignment functions in this module follow the convention **alignmenttypeXY** where **alignmenttype** is either “global” or “local” and **XY** is a 2 character code indicating the parameters it takes. The first character **X** indicates the parameters for matches (and mismatches), and the second **Y** indicates the parameters for gap penalties."
   ]
  },
  {
   "cell_type": "markdown",
   "id": "a290e09a",
   "metadata": {
    "slideshow": {
     "slide_type": "slide"
    }
   },
   "source": [
    "The match parameters are:\n",
    "\n",
    "1. x  -   No parameters. Identical characters have score of 1, otherwise 0\n",
    "\n",
    "2. m  -   A match score is the score of identical chars, otherwise mismatch score. Keywords: **match**, **mismatch**\n",
    "\n",
    "3. d  -   A dictionary returns the score of any pair of characters. Keyword: **match_dict**\n",
    "\n",
    "4. c  -   A callback function returns scores. Keyword: **match_fn**"
   ]
  },
  {
   "cell_type": "markdown",
   "id": "6941f2d0",
   "metadata": {
    "slideshow": {
     "slide_type": "slide"
    }
   },
   "source": [
    "    \n",
    "The gap penalty parameters are:\n",
    "1. x  -   No gap penalties\n",
    "2. s  -   Same open and extend gap penalties for both sequences. Keywords: **open**, **extend**\n",
    "3. d  -   The sequences have different open and extend gap penalties. Keywords **openA**, **extendA**, **openB**, **extendB**\n",
    "4. c  -   A callback function returns the gap penalties. Keywords **gap_A_fn**, **gap_B_fn**"
   ]
  },
  {
   "cell_type": "markdown",
   "id": "3f427bb8",
   "metadata": {
    "slideshow": {
     "slide_type": "slide"
    }
   },
   "source": [
    "### Examples of global alignment\n",
    "For local alignment we use the same functions, just instead of calling global, we call local!"
   ]
  },
  {
   "cell_type": "code",
   "execution_count": 1,
   "id": "1e50d386",
   "metadata": {
    "slideshow": {
     "slide_type": "fragment"
    }
   },
   "outputs": [],
   "source": [
    "from Bio import pairwise2"
   ]
  },
  {
   "cell_type": "code",
   "execution_count": 2,
   "id": "cb62ff7f",
   "metadata": {
    "slideshow": {
     "slide_type": "fragment"
    }
   },
   "outputs": [
    {
     "name": "stdout",
     "output_type": "stream",
     "text": [
      "ACCGGT\n",
      "| | ||\n",
      "A-C-GT\n",
      "  Score=4\n",
      "\n",
      "ACCGGT\n",
      "||  ||\n",
      "AC--GT\n",
      "  Score=4\n",
      "\n",
      "ACCGGT\n",
      "| || |\n",
      "A-CG-T\n",
      "  Score=4\n",
      "\n",
      "ACCGGT\n",
      "|| | |\n",
      "AC-G-T\n",
      "  Score=4\n",
      "\n"
     ]
    }
   ],
   "source": [
    "# globalxx - matches score 1, mismatches 0 and no gap penalty.\n",
    "alignments = pairwise2.align.globalxx(\"ACCGGT\", \"ACGT\") \n",
    "for alignment in alignments:\n",
    "    print(pairwise2.format_alignment(*alignment))"
   ]
  },
  {
   "cell_type": "code",
   "execution_count": 3,
   "id": "b2adbc16",
   "metadata": {
    "slideshow": {
     "slide_type": "slide"
    }
   },
   "outputs": [
    {
     "name": "stdout",
     "output_type": "stream",
     "text": [
      "ACCGGT\n",
      "| | ||\n",
      "A-C-GT\n",
      "  Score=8\n",
      "\n",
      "ACCGGT\n",
      "||  ||\n",
      "AC--GT\n",
      "  Score=8\n",
      "\n",
      "ACCGGT\n",
      "| || |\n",
      "A-CG-T\n",
      "  Score=8\n",
      "\n",
      "ACCGGT\n",
      "|| | |\n",
      "AC-G-T\n",
      "  Score=8\n",
      "\n"
     ]
    }
   ],
   "source": [
    "# globalmx - # matches score 2, mismatches -1. No gap penalty.\n",
    "alignments = pairwise2.align.globalmx(\"ACCGGT\", \"ACGT\", match=2, mismatch=-1) \n",
    "for alignment in alignments:\n",
    "    print(pairwise2.format_alignment(*alignment))"
   ]
  },
  {
   "cell_type": "code",
   "execution_count": 4,
   "id": "43324d5e",
   "metadata": {
    "slideshow": {
     "slide_type": "slide"
    }
   },
   "outputs": [
    {
     "name": "stdout",
     "output_type": "stream",
     "text": [
      "ACCGGT\n",
      "||  ||\n",
      "AC--GT\n",
      "  Score=1\n",
      "\n"
     ]
    }
   ],
   "source": [
    "# globalxs - matches score 1, mismatches 0, opening gap -2, extended gap -1\n",
    "alignments = pairwise2.align.globalxs(\"ACCGGT\", \"ACGT\", open=-2, extend=-1)\n",
    "for alignment in alignments:\n",
    "    print(pairwise2.format_alignment(*alignment))"
   ]
  },
  {
   "cell_type": "code",
   "execution_count": 5,
   "id": "c9ffe344",
   "metadata": {
    "slideshow": {
     "slide_type": "slide"
    }
   },
   "outputs": [
    {
     "name": "stdout",
     "output_type": "stream",
     "text": [
      "KEVLA\n",
      " ||| \n",
      "-EVL-\n",
      "  Score=13\n",
      "\n"
     ]
    }
   ],
   "source": [
    "# globaldx - matching/mismatching scores read from blosum62 matrix, no gap penalty\n",
    "from Bio.Align import substitution_matrices\n",
    "matrix = substitution_matrices.load(\"BLOSUM62\") # blosum62 scoring matrix for sequence alignment of proteins\n",
    "alignments = pairwise2.align.globaldx(\"KEVLA\", \"EVL\", match_dict=matrix)\n",
    "for alignment in alignments:\n",
    "    print(pairwise2.format_alignment(*alignment))"
   ]
  },
  {
   "cell_type": "code",
   "execution_count": 6,
   "id": "a3786856",
   "metadata": {
    "slideshow": {
     "slide_type": "slide"
    }
   },
   "outputs": [
    {
     "name": "stdout",
     "output_type": "stream",
     "text": [
      "ACCCCCGT\n",
      "|    || \n",
      "A----CG-\n",
      "  Score=9.30685\n",
      "\n",
      "ACCCCCGT\n",
      "||    | \n",
      "AC----G-\n",
      "  Score=9.30685\n",
      "\n"
     ]
    }
   ],
   "source": [
    "# globalmc - matches score 5, mismatches -4, gap penalty defined through function gap_function\n",
    "from math import log\n",
    "def gap_function(x, y):  # x is gap position in seq, y is gap length\n",
    "     if y == 0:  # No gap\n",
    "        return 0\n",
    "     elif y == 1:  # Gap open penalty\n",
    "        return -2\n",
    "     return - (2 + y/4.0 + log(y)/2.0)\n",
    "\n",
    "alignments = pairwise2.align.globalmc(\"ACCCCCGT\", \"ACG\", match=5, mismatch=-4,\n",
    "                                     gap_A_fn=gap_function, gap_B_fn=gap_function)\n",
    "for alignment in alignments:\n",
    "    print(pairwise2.format_alignment(*alignment))"
   ]
  },
  {
   "cell_type": "markdown",
   "id": "106239cc",
   "metadata": {
    "slideshow": {
     "slide_type": "slide"
    }
   },
   "source": [
    "Want to learn more? Check Chapter 6 of Biopython tutorial to learn more about sequence alignments in Biopython. Link: http://biopython.org/DIST/docs/tutorial/Tutorial.pdf"
   ]
  }
 ],
 "metadata": {
  "celltoolbar": "Slideshow",
  "kernelspec": {
   "display_name": "Python (biopython-env)",
   "language": "python",
   "name": "12daysofbiopython-env"
  },
  "language_info": {
   "codemirror_mode": {
    "name": "ipython",
    "version": 3
   },
   "file_extension": ".py",
   "mimetype": "text/x-python",
   "name": "python",
   "nbconvert_exporter": "python",
   "pygments_lexer": "ipython3",
   "version": "3.8.12"
  }
 },
 "nbformat": 4,
 "nbformat_minor": 5
}
