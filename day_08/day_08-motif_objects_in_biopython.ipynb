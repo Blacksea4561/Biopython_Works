{
 "cells": [
  {
   "cell_type": "markdown",
   "id": "c63c4c2d",
   "metadata": {},
   "source": [
    "# Motif objects in Biopython\n",
    "A sequence motif is a nucleotide or amino-acid sequence pattern. Sequence motifs are formed by three-dimensional arrangement of amino acids which may not be adjacent. Biopython provides a separate module, Bio.motifs to access the functionalities of sequence motif "
   ]
  },
  {
   "cell_type": "code",
   "execution_count": 1,
   "id": "404fc755",
   "metadata": {},
   "outputs": [],
   "source": [
    "from Bio import motifs"
   ]
  },
  {
   "cell_type": "markdown",
   "id": "bc8529c2",
   "metadata": {},
   "source": [
    "### Creating a simple DNA Motif\n",
    "Let's create a DNA motif sequence"
   ]
  },
  {
   "cell_type": "code",
   "execution_count": 2,
   "id": "e8ce032e",
   "metadata": {},
   "outputs": [],
   "source": [
    "from Bio.Seq import Seq\n",
    "instances = [\n",
    "    Seq(\"TACAA\"),\n",
    "    Seq(\"TACGC\"),\n",
    "    Seq(\"TACAC\"),\n",
    "    Seq(\"TACCC\"),\n",
    "    Seq(\"AACCC\"),\n",
    "    Seq(\"AATGC\"),\n",
    "    Seq(\"AATGC\")\n",
    "]"
   ]
  },
  {
   "cell_type": "code",
   "execution_count": 3,
   "id": "2bc20b8b",
   "metadata": {},
   "outputs": [],
   "source": [
    "m = motifs.create(instances)"
   ]
  },
  {
   "cell_type": "code",
   "execution_count": 4,
   "id": "2649dbcb",
   "metadata": {},
   "outputs": [
    {
     "name": "stdout",
     "output_type": "stream",
     "text": [
      "TACAA\n",
      "TACGC\n",
      "TACAC\n",
      "TACCC\n",
      "AACCC\n",
      "AATGC\n",
      "AATGC\n",
      "\n"
     ]
    }
   ],
   "source": [
    "print(m)"
   ]
  },
  {
   "cell_type": "markdown",
   "id": "4e74c0fe",
   "metadata": {},
   "source": [
    "The instances are saved in an attribute **.instances**"
   ]
  },
  {
   "cell_type": "code",
   "execution_count": 5,
   "id": "b35a24f1",
   "metadata": {},
   "outputs": [
    {
     "data": {
      "text/plain": [
       "[Seq('TACAA'),\n",
       " Seq('TACGC'),\n",
       " Seq('TACAC'),\n",
       " Seq('TACCC'),\n",
       " Seq('AACCC'),\n",
       " Seq('AATGC'),\n",
       " Seq('AATGC')]"
      ]
     },
     "execution_count": 5,
     "metadata": {},
     "output_type": "execute_result"
    }
   ],
   "source": [
    "m.instances"
   ]
  },
  {
   "cell_type": "markdown",
   "id": "64a10254",
   "metadata": {},
   "source": [
    "The Motif object has an attribute **.counts** containing the counts of each nucleotide at each position. Printing this counts matrix shows it in an easily readable format:"
   ]
  },
  {
   "cell_type": "code",
   "execution_count": 6,
   "id": "d06f92ac",
   "metadata": {},
   "outputs": [
    {
     "name": "stdout",
     "output_type": "stream",
     "text": [
      "        0      1      2      3      4\n",
      "A:   3.00   7.00   0.00   2.00   1.00\n",
      "C:   0.00   0.00   5.00   2.00   6.00\n",
      "G:   0.00   0.00   0.00   3.00   0.00\n",
      "T:   4.00   0.00   2.00   0.00   0.00\n",
      "\n"
     ]
    }
   ],
   "source": [
    "print(m.counts)"
   ]
  },
  {
   "cell_type": "markdown",
   "id": "82d88e81",
   "metadata": {},
   "source": [
    "We can access these counts as a dictionary:"
   ]
  },
  {
   "cell_type": "code",
   "execution_count": 7,
   "id": "88321ec8",
   "metadata": {},
   "outputs": [
    {
     "data": {
      "text/plain": [
       "[3, 7, 0, 2, 1]"
      ]
     },
     "execution_count": 7,
     "metadata": {},
     "output_type": "execute_result"
    }
   ],
   "source": [
    "m.counts['A']"
   ]
  },
  {
   "cell_type": "markdown",
   "id": "2cd5936c",
   "metadata": {},
   "source": [
    "We can also directly access columns of the counts matrix:"
   ]
  },
  {
   "cell_type": "code",
   "execution_count": 8,
   "id": "68466a37",
   "metadata": {},
   "outputs": [
    {
     "data": {
      "text/plain": [
       "{'A': 2, 'C': 2, 'G': 3, 'T': 0}"
      ]
     },
     "execution_count": 8,
     "metadata": {},
     "output_type": "execute_result"
    }
   ],
   "source": [
    "m.counts[:, 3]"
   ]
  },
  {
   "cell_type": "markdown",
   "id": "5d559e37",
   "metadata": {},
   "source": [
    "The motif has an associated **consensus** sequence, defined as the sequence of letters along the positions of the motif for which the largest value in the corresponding columns of the .counts matrix is obtained:"
   ]
  },
  {
   "cell_type": "code",
   "execution_count": 9,
   "id": "56ae07ad",
   "metadata": {},
   "outputs": [
    {
     "data": {
      "text/plain": [
       "Seq('TACGC')"
      ]
     },
     "execution_count": 9,
     "metadata": {},
     "output_type": "execute_result"
    }
   ],
   "source": [
    "m.consensus"
   ]
  },
  {
   "cell_type": "markdown",
   "id": "2eb44de8",
   "metadata": {},
   "source": [
    "As well as an **anticonsensus** sequence, corresponding to the smallest values in the columns of the .counts matrix:"
   ]
  },
  {
   "cell_type": "code",
   "execution_count": 10,
   "id": "bf64977b",
   "metadata": {},
   "outputs": [
    {
     "data": {
      "text/plain": [
       "Seq('CCATG')"
      ]
     },
     "execution_count": 10,
     "metadata": {},
     "output_type": "execute_result"
    }
   ],
   "source": [
    "m.anticonsensus"
   ]
  },
  {
   "cell_type": "markdown",
   "id": "16850fde",
   "metadata": {},
   "source": [
    "Note that there is some ambiguity in the definition of the consensus and anticonsensus sequence if in some columns multiple nucleotides have the maximum or minimum count.\n",
    "You can also ask for a degenerate consensus sequence, in which ambiguous nucleotides are used for positions where there are multiple nucleotides with high counts:"
   ]
  },
  {
   "cell_type": "code",
   "execution_count": 11,
   "id": "2b53412e",
   "metadata": {},
   "outputs": [
    {
     "data": {
      "text/plain": [
       "Seq('WACVC')"
      ]
     },
     "execution_count": 11,
     "metadata": {},
     "output_type": "execute_result"
    }
   ],
   "source": [
    "m.degenerate_consensus"
   ]
  },
  {
   "cell_type": "markdown",
   "id": "08fb034e",
   "metadata": {},
   "source": [
    "Here, W and V follow the IUPAC nucleotide ambiguity codes: W is either A or T, and V is A, C, or G"
   ]
  },
  {
   "cell_type": "markdown",
   "id": "f02b1da9",
   "metadata": {},
   "source": [
    "Want to learn more? Here we only went though how to manually create sequence motif, but if you want to learn more check Chapter 14 of Biopython tutorial to learn more about sequence motifs in Biopython. Link: http://biopython.org/DIST/docs/tutorial/Tutorial.pdf"
   ]
  }
 ],
 "metadata": {
  "kernelspec": {
   "display_name": "Python (biopython-env)",
   "language": "python",
   "name": "12daysofbiopython-env"
  },
  "language_info": {
   "codemirror_mode": {
    "name": "ipython",
    "version": 3
   },
   "file_extension": ".py",
   "mimetype": "text/x-python",
   "name": "python",
   "nbconvert_exporter": "python",
   "pygments_lexer": "ipython3",
   "version": "3.8.12"
  }
 },
 "nbformat": 4,
 "nbformat_minor": 5
}
