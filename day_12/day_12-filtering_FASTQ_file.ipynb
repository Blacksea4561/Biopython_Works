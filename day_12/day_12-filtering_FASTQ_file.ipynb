{
 "cells": [
  {
   "cell_type": "markdown",
   "id": "7b4850d3",
   "metadata": {},
   "source": [
    "# Simple quality filtering for FASTQ files\n",
    "One common task when working with FASTQ fikes is taking a large set of sequencing reads and filtering them based on their quality scores. We are going to read FASTQ data, and filter it to pick out only those records whose PHRED quality scores are all above some threshold."
   ]
  },
  {
   "cell_type": "markdown",
   "id": "07b20f6a",
   "metadata": {},
   "source": [
    "### Get data"
   ]
  },
  {
   "cell_type": "code",
   "execution_count": 2,
   "id": "29a5de1c",
   "metadata": {},
   "outputs": [
    {
     "name": "stdout",
     "output_type": "stream",
     "text": [
      "--2021-12-13 13:46:40--  ftp://ftp.sra.ebi.ac.uk/vol1/fastq/SRR020/SRR020192/SRR020192.fastq.gz\n",
      "           => ‘SRR020192.fastq.gz’\n",
      "Resolving ftp.sra.ebi.ac.uk (ftp.sra.ebi.ac.uk)... 193.62.193.138\n",
      "Connecting to ftp.sra.ebi.ac.uk (ftp.sra.ebi.ac.uk)|193.62.193.138|:21... connected.\n",
      "Logging in as anonymous ... Logged in!\n",
      "==> SYST ... done.    ==> PWD ... done.\n",
      "==> TYPE I ... done.  ==> CWD (1) /vol1/fastq/SRR020/SRR020192 ... done.\n",
      "==> SIZE SRR020192.fastq.gz ... 1777817\n",
      "==> PASV ... done.    ==> RETR SRR020192.fastq.gz ... done.\n",
      "Length: 1777817 (1,7M) (unauthoritative)\n",
      "\n",
      "SRR020192.fastq.gz  100%[===================>]   1,70M  2,39MB/s    in 0,7s    \n",
      "\n",
      "2021-12-13 13:46:42 (2,39 MB/s) - ‘SRR020192.fastq.gz’ saved [1777817]\n",
      "\n"
     ]
    }
   ],
   "source": [
    "!wget ftp://ftp.sra.ebi.ac.uk/vol1/fastq/SRR020/SRR020192/SRR020192.fastq.gz "
   ]
  },
  {
   "cell_type": "code",
   "execution_count": 3,
   "id": "0a4cfefc",
   "metadata": {},
   "outputs": [],
   "source": [
    "!gzip -d SRR020192.fastq.gz"
   ]
  },
  {
   "cell_type": "code",
   "execution_count": 4,
   "id": "08cd402a",
   "metadata": {},
   "outputs": [
    {
     "name": "stdout",
     "output_type": "stream",
     "text": [
      "We have 41892 reads.\n"
     ]
    }
   ],
   "source": [
    "from Bio import SeqIO\n",
    "count = 0\n",
    "for rec in SeqIO.parse(\"SRR020192.fastq\", \"fastq\"):\n",
    "    count += 1\n",
    "print(f\"We have {count} reads.\")"
   ]
  },
  {
   "cell_type": "code",
   "execution_count": 9,
   "id": "50a9d5a8",
   "metadata": {
    "scrolled": true
   },
   "outputs": [
    {
     "data": {
      "text/plain": [
       "[24,\n",
       " 23,\n",
       " 27,\n",
       " 30,\n",
       " 30,\n",
       " 30,\n",
       " 23,\n",
       " 23,\n",
       " 24,\n",
       " 23,\n",
       " 23,\n",
       " 30,\n",
       " 28,\n",
       " 27,\n",
       " 25,\n",
       " 25,\n",
       " 27,\n",
       " 27,\n",
       " 27,\n",
       " 22,\n",
       " 22,\n",
       " 24,\n",
       " 18,\n",
       " 18,\n",
       " 18,\n",
       " 30,\n",
       " 19,\n",
       " 19,\n",
       " 23,\n",
       " 23,\n",
       " 30,\n",
       " 30,\n",
       " 32,\n",
       " 32,\n",
       " 32,\n",
       " 30,\n",
       " 24,\n",
       " 23,\n",
       " 23,\n",
       " 27,\n",
       " 30,\n",
       " 32,\n",
       " 30,\n",
       " 32,\n",
       " 29,\n",
       " 28,\n",
       " 28,\n",
       " 17,\n",
       " 17,\n",
       " 17,\n",
       " 17,\n",
       " 24,\n",
       " 17,\n",
       " 17,\n",
       " 13,\n",
       " 15,\n",
       " 17,\n",
       " 25,\n",
       " 25,\n",
       " 24,\n",
       " 24,\n",
       " 23,\n",
       " 27,\n",
       " 27,\n",
       " 15,\n",
       " 15,\n",
       " 15,\n",
       " 15,\n",
       " 15,\n",
       " 17,\n",
       " 17,\n",
       " 11,\n",
       " 15,\n",
       " 15]"
      ]
     },
     "execution_count": 9,
     "metadata": {},
     "output_type": "execute_result"
    }
   ],
   "source": [
    "# how phred quality scores look like\n",
    "rec = SeqIO.parse(\"SRR020192.fastq\", \"fastq\")\n",
    "rec = next(rec)\n",
    "rec.letter_annotations[\"phred_quality\"]"
   ]
  },
  {
   "cell_type": "code",
   "execution_count": 11,
   "id": "4d882f1a",
   "metadata": {},
   "outputs": [
    {
     "name": "stdout",
     "output_type": "stream",
     "text": [
      "Saved 20050 reads.\n"
     ]
    }
   ],
   "source": [
    "good_reads = (\n",
    "    rec\n",
    "    for rec in SeqIO.parse(\"SRR020192.fastq\", \"fastq\")\n",
    "    if min(rec.letter_annotations[\"phred_quality\"]) >= 20\n",
    ")\n",
    "count = SeqIO.write(good_reads, \"good_quality.fastq\", \"fastq\")\n",
    "print(f\"Saved {count} reads.\")"
   ]
  },
  {
   "cell_type": "markdown",
   "id": "0a53b279",
   "metadata": {},
   "source": [
    "This pulled out only 20050 reads out of the 41892 present"
   ]
  }
 ],
 "metadata": {
  "kernelspec": {
   "display_name": "Python (biopython-env)",
   "language": "python",
   "name": "12daysofbiopython-env"
  },
  "language_info": {
   "codemirror_mode": {
    "name": "ipython",
    "version": 3
   },
   "file_extension": ".py",
   "mimetype": "text/x-python",
   "name": "python",
   "nbconvert_exporter": "python",
   "pygments_lexer": "ipython3",
   "version": "3.8.12"
  }
 },
 "nbformat": 4,
 "nbformat_minor": 5
}
